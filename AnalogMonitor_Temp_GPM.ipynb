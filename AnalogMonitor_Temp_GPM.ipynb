{
 "cells": [
  {
   "cell_type": "code",
   "execution_count": null,
   "id": "a80e3de7-f835-4a65-bd55-4adcd3ea4883",
   "metadata": {},
   "outputs": [],
   "source": [
    "import numpy as np \n",
    "import time\n",
    "import datetime\n",
    "import os\n",
    "\n",
    "import pyvisa\n",
    "\n",
    "import board\n",
    "import busio\n",
    "import adafruit_ads1x15.ads1015 as ADS\n",
    "from adafruit_ads1x15.analog_in import AnalogIn"
   ]
  },
  {
   "cell_type": "code",
   "execution_count": null,
   "id": "153928e2-b5cb-4196-a5ba-bb24762f12a8",
   "metadata": {},
   "outputs": [],
   "source": [
    "'''\n",
    "    measure temperature using GPIB via an Agilent 82357A USB/GPIB converter\n",
    "    this converter is hooked up to the raspberry pi and the LakeShore Model \n",
    "    218 temperature monitor.\n",
    "'''\n",
    "\n",
    "def T_measure():\n",
    "\n",
    "    return temp"
   ]
  },
  {
   "cell_type": "code",
   "execution_count": null,
   "id": "ca1a6234-7054-4bea-91e8-17338e0d748e",
   "metadata": {},
   "outputs": [],
   "source": [
    "''' \n",
    "    measure gallons per minute using an analog-digital converter\n",
    "    ADC measures the voltage across a resistive load and converts\n",
    "    it into a digital signal for the raspberry pi to read in mV's\n",
    "    ADS1115 documentation at https://docs.circuitpython.org/projects/ads1x15/en/latest/ \n",
    "'''\n",
    "def GPM_measure(resistor_load=1):\n",
    "    # Create the I2C bus\n",
    "    i2c = busio.I2C(board.SCL, board.SDA)\n",
    "\n",
    "    # Create the ADC object using the I2C bus\n",
    "    ads = ADS.ADS1115(i2c)\n",
    "\n",
    "    # Create single-ended input on channel 0\n",
    "    chan = AnalogIn(ads, ADS.P0)\n",
    "\n",
    "    # Create differential input between channel 0 and 1\n",
    "    #chan = AnalogIn(ads, ADS.P0, ADS.P1)\n",
    "\n",
    "    print(\"{:>5}\\t{:>5}\".format('raw', 'v'))\n",
    "    \n",
    "    ''' perform measurement using ADC and gpib '''\n",
    "    # use try-except to allow pi to continue working even if error is raised\n",
    "    try:\n",
    "        # take measurement and print\n",
    "        print(\"{:>5}\\t{:>5.3f}\".format(chan.value, chan.voltage))\n",
    "    \n",
    "    except:\n",
    "        print(\"GPM measurement error\")\n",
    "    \n",
    "    ''' convert measurement '''\n",
    "    # convert mA measurement to flowrate\n",
    "    ### range of device is from 4mA to 20mA\n",
    "    ### gpm is from ASP to AEP, by default 0.00 to 5.28 gpm\n",
    "\n",
    "    \n",
    "    #changed SSP and SEP to be function parameters\n",
    "    #SSP = 4     # signal start point [mV]\n",
    "    #SEP = 20    # signal end point [mV]\n",
    "    ASP = 0.00   # analog start point [gpm]\n",
    "    AEP = 5.28   # analog end point [gpm]\n",
    "\n",
    "    # shift data down by 4mV (SSP), then \n",
    "    # divide by 16mV (SEP-SSP) to get percentage. \n",
    "    # then convert to gpm using the meter's analog range\n",
    "    percentage = (data-SSP)/(SEP-SSP)\n",
    "    gpm = percentage*(AEP-ASP)\n",
    "\n",
    "    return gpm"
   ]
  },
  {
   "cell_type": "code",
   "execution_count": null,
   "id": "f96d6838-daef-44ce-b560-023ffcdf6380",
   "metadata": {},
   "outputs": [],
   "source": [
    "''' set up measurement devices '''\n",
    "rm = pyvisa.ResourceManager()\n",
    "print(rm.list_resources())\n",
    "my_instrument = rm.open_resource('GPIB0::13::INSTR')\n",
    "print(my_instrument.query('*IDN?'))"
   ]
  },
  {
   "cell_type": "code",
   "execution_count": null,
   "id": "b773afb4-5167-477d-a230-b00d2614352d",
   "metadata": {},
   "outputs": [],
   "source": [
    "# this will be appended to the text file\n",
    "\n",
    "# now save data to opened file\n",
    "try:\n",
    "    with open(os.path.join(data_path, filename), 'a') as file:  # use append mode to... append to today's file\n",
    "        timestamp = str(datetime.datetime.now().strftime(\"%I:%M:%S %p\")) # Hr:Min:Sec am/pm\n",
    "        data_measurement_string = \"[{0}] {1:1.2f} GPM @ {2:1.5f} mV  \\n\".format(timestamp, flow_rate, data)\n",
    "\n",
    "        print(data_measurement_string)  # record in console\n",
    "        file.write(data_measurement_string)  # record in text file\n",
    "\n",
    "except FileNotFoundError:\n",
    "    print(\"except: FileNotFoundError\")"
   ]
  },
  {
   "cell_type": "code",
   "execution_count": null,
   "id": "095a4c10-1eb3-41a1-bf8b-da64db94d4b8",
   "metadata": {},
   "outputs": [],
   "source": [
    "GPM_measure()\n"
   ]
  },
  {
   "cell_type": "code",
   "execution_count": null,
   "id": "2a10d370-5139-4df0-b166-0a83469490bc",
   "metadata": {},
   "outputs": [],
   "source": []
  }
 ],
 "metadata": {
  "kernelspec": {
   "display_name": "Python 3 (freeze_pi)",
   "language": "python",
   "name": "freeze_pi"
  },
  "language_info": {
   "codemirror_mode": {
    "name": "ipython",
    "version": 3
   },
   "file_extension": ".py",
   "mimetype": "text/x-python",
   "name": "python",
   "nbconvert_exporter": "python",
   "pygments_lexer": "ipython3",
   "version": "3.11.0"
  }
 },
 "nbformat": 4,
 "nbformat_minor": 5
}
